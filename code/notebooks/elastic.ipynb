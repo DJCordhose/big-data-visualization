{
 "cells": [
  {
   "cell_type": "code",
   "execution_count": 2,
   "metadata": {},
   "outputs": [
    {
     "name": "stdout",
     "output_type": "stream",
     "text": [
      "Populating the interactive namespace from numpy and matplotlib\n"
     ]
    }
   ],
   "source": [
    "%matplotlib inline\n",
    "%pylab inline"
   ]
  },
  {
   "cell_type": "code",
   "execution_count": 3,
   "metadata": {
    "collapsed": true
   },
   "outputs": [],
   "source": [
    "import warnings\n",
    "warnings.filterwarnings('ignore')"
   ]
  },
  {
   "cell_type": "code",
   "execution_count": 4,
   "metadata": {},
   "outputs": [],
   "source": [
    "from pyelasticsearch import ElasticSearch, bulk_chunks\n",
    "import pandas as pd"
   ]
  },
  {
   "cell_type": "code",
   "execution_count": 5,
   "metadata": {
    "collapsed": true
   },
   "outputs": [],
   "source": [
    "ES_HOST = 'http://localhost:9200/'\n",
    "INDEX_NAME = \"expo2009\"\n",
    "DOC_TYPE = \"flight\""
   ]
  },
  {
   "cell_type": "code",
   "execution_count": 7,
   "metadata": {},
   "outputs": [],
   "source": [
    "es = ElasticSearch(ES_HOST)"
   ]
  },
  {
   "cell_type": "code",
   "execution_count": 9,
   "metadata": {},
   "outputs": [
    {
     "name": "stdout",
     "output_type": "stream",
     "text": [
      "Deleting expo2009\n"
     ]
    }
   ],
   "source": [
    "# init index\n",
    "try :\n",
    "    es.delete_index(INDEX_NAME)\n",
    "    print('Deleting %s'%(INDEX_NAME))\n",
    "except :\n",
    "    print('ERROR: Deleting %s failed!'%(INDEX_NAME))\n",
    "    pass"
   ]
  },
  {
   "cell_type": "code",
   "execution_count": 10,
   "metadata": {},
   "outputs": [
    {
     "data": {
      "text/plain": [
       "{'acknowledged': True, 'shards_acknowledged': True}"
      ]
     },
     "execution_count": 10,
     "metadata": {},
     "output_type": "execute_result"
    }
   ],
   "source": [
    "es.create_index(INDEX_NAME)"
   ]
  },
  {
   "cell_type": "code",
   "execution_count": 11,
   "metadata": {},
   "outputs": [
    {
     "data": {
      "text/plain": [
       "{'acknowledged': True}"
      ]
     },
     "execution_count": 11,
     "metadata": {},
     "output_type": "execute_result"
    }
   ],
   "source": [
    "# https://pyelasticsearch.readthedocs.io/en/latest/api/#pyelasticsearch.ElasticSearch.put_mapping\n",
    "# https://www.elastic.co/guide/en/elasticsearch/reference/current/null-value.html\n",
    "mapping = {\n",
    "    'flight': {\n",
    "        'properties': {\n",
    "            'SecurityDelay': {\n",
    "                'type': 'integer',\n",
    "                'null_value': -1\n",
    "            },\n",
    "            'FlightNum': {\n",
    "                'type': 'string'\n",
    "            },\n",
    "            'Origin': {\n",
    "                'type': 'string'\n",
    "            },\n",
    "            'LateAircraftDelay': {\n",
    "                'type': 'integer',\n",
    "                'null_value': -1\n",
    "            },\n",
    "            'NASDelay': {\n",
    "                'type': 'integer',\n",
    "                'null_value': -1\n",
    "            },\n",
    "            'ArrTime': {\n",
    "                'type': 'integer'\n",
    "            },\n",
    "            'AirTime': {\n",
    "                'type': 'integer'\n",
    "            },\n",
    "            'DepTime': {\n",
    "                'type': 'integer'\n",
    "            },\n",
    "            'Month': {\n",
    "                'type': 'string'\n",
    "            },\n",
    "            'CRSElapsedTime': {\n",
    "                'type': 'integer'\n",
    "            },\n",
    "            'DayofMonth': {\n",
    "                'type': 'string'\n",
    "            },\n",
    "            'Distance': {\n",
    "                'type': 'integer'\n",
    "            },\n",
    "            'CRSDepTime': {\n",
    "                'type': 'integer',\n",
    "            },\n",
    "            'DayOfWeek': {\n",
    "                'type': 'string'\n",
    "            },\n",
    "            'CancellationCode': {\n",
    "                'type': 'string'\n",
    "            },\n",
    "            'Dest': {\n",
    "                'type': 'string'\n",
    "            },\n",
    "            'DepDelay': {\n",
    "                'type': 'integer'\n",
    "            },\n",
    "            'TaxiIn': {\n",
    "                'type': 'integer'\n",
    "            },\n",
    "            'UniqueCarrier': {\n",
    "                'type': 'string'\n",
    "            },\n",
    "            'ArrDelay': {\n",
    "                'type': 'integer'\n",
    "            },\n",
    "            'Cancelled': {\n",
    "                'type': 'boolean'\n",
    "            },\n",
    "            'Diverted': {\n",
    "                'type': 'boolean'\n",
    "            },\n",
    "            'message': {\n",
    "                'type': 'string'\n",
    "            },\n",
    "            'TaxiOut': {\n",
    "                'type': 'integer'\n",
    "            },\n",
    "            'ActualElapsedTime': {\n",
    "                'type': 'integer'\n",
    "            },\n",
    "            'CarrierDelay': {\n",
    "                'type': 'integer',\n",
    "                'null_value': -1\n",
    "            },\n",
    "            '@timestamp': {\n",
    "                'format': 'strict_date_optional_time||epoch_millis',\n",
    "                'type': 'date'\n",
    "            },\n",
    "            'Year': {\n",
    "                'type': 'string'\n",
    "            },\n",
    "            'WeatherDelay': {\n",
    "                'type': 'integer',\n",
    "                'null_value': -1\n",
    "            },\n",
    "            'CRSArrTime': {\n",
    "                'type': 'integer'\n",
    "            },\n",
    "            'TailNum': {\n",
    "                'type': 'string'\n",
    "            }\n",
    "        }\n",
    "    }\n",
    "}\n",
    "es.put_mapping(index=INDEX_NAME, doc_type=DOC_TYPE,mapping=mapping )"
   ]
  },
  {
   "cell_type": "code",
   "execution_count": 18,
   "metadata": {},
   "outputs": [
    {
     "data": {
      "text/plain": [
       "63106"
      ]
     },
     "execution_count": 18,
     "metadata": {},
     "output_type": "execute_result"
    }
   ],
   "source": [
    "es.count('*')['count']"
   ]
  },
  {
   "cell_type": "code",
   "execution_count": null,
   "metadata": {
    "collapsed": true
   },
   "outputs": [],
   "source": []
  }
 ],
 "metadata": {
  "kernelspec": {
   "display_name": "Python 3",
   "language": "python",
   "name": "python3"
  }
 },
 "nbformat": 4,
 "nbformat_minor": 2
}
