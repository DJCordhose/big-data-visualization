{
 "cells": [
  {
   "cell_type": "code",
   "execution_count": 1,
   "metadata": {},
   "outputs": [
    {
     "name": "stdout",
     "output_type": "stream",
     "text": [
      "Populating the interactive namespace from numpy and matplotlib\n"
     ]
    }
   ],
   "source": [
    "%matplotlib inline\n",
    "%pylab inline"
   ]
  },
  {
   "cell_type": "code",
   "execution_count": 2,
   "metadata": {
    "collapsed": true
   },
   "outputs": [],
   "source": [
    "import warnings\n",
    "warnings.filterwarnings('ignore')"
   ]
  },
  {
   "cell_type": "code",
   "execution_count": 3,
   "metadata": {
    "collapsed": true
   },
   "outputs": [],
   "source": [
    "from pyelasticsearch import ElasticSearch, bulk_chunks\n",
    "import pandas as pd"
   ]
  },
  {
   "cell_type": "code",
   "execution_count": 4,
   "metadata": {
    "collapsed": true
   },
   "outputs": [],
   "source": [
    "ES_HOST = 'http://localhost:9200/'\n",
    "INDEX_NAME = \"expo2009\"\n",
    "DOC_TYPE = \"flight\""
   ]
  },
  {
   "cell_type": "code",
   "execution_count": 5,
   "metadata": {
    "collapsed": true
   },
   "outputs": [],
   "source": [
    "es = ElasticSearch(ES_HOST)"
   ]
  },
  {
   "cell_type": "code",
   "execution_count": 6,
   "metadata": {},
   "outputs": [
    {
     "data": {
      "text/plain": [
       "12140825"
      ]
     },
     "execution_count": 6,
     "metadata": {},
     "output_type": "execute_result"
    }
   ],
   "source": [
    "es.count('*')['count']"
   ]
  },
  {
   "cell_type": "code",
   "execution_count": null,
   "metadata": {
    "collapsed": true
   },
   "outputs": [],
   "source": [
    "# init index\n",
    "try :\n",
    "    es.delete_index(INDEX_NAME)\n",
    "    print('Deleting %s'%(INDEX_NAME))\n",
    "except :\n",
    "    print('ERROR: Deleting %s failed!'%(INDEX_NAME))\n",
    "    pass"
   ]
  },
  {
   "cell_type": "code",
   "execution_count": null,
   "metadata": {
    "collapsed": true
   },
   "outputs": [],
   "source": [
    "es.create_index(INDEX_NAME)"
   ]
  },
  {
   "cell_type": "code",
   "execution_count": null,
   "metadata": {
    "collapsed": true
   },
   "outputs": [],
   "source": [
    "# https://pyelasticsearch.readthedocs.io/en/latest/api/#pyelasticsearch.ElasticSearch.put_mapping\n",
    "# https://www.elastic.co/guide/en/elasticsearch/reference/current/null-value.html\n",
    "mapping = {\n",
    "    'flight': {\n",
    "        'properties': {\n",
    "            'SecurityDelay': {\n",
    "                'type': 'integer',\n",
    "                'null_value': -1\n",
    "            },\n",
    "            'FlightNum': {\n",
    "                'type': 'string'\n",
    "            },\n",
    "            'Origin': {\n",
    "                'type': 'string'\n",
    "            },\n",
    "            'LateAircraftDelay': {\n",
    "                'type': 'integer',\n",
    "                'null_value': -1\n",
    "            },\n",
    "            'NASDelay': {\n",
    "                'type': 'integer',\n",
    "                'null_value': -1\n",
    "            },\n",
    "            'ArrTime': {\n",
    "                'type': 'integer'\n",
    "            },\n",
    "            'AirTime': {\n",
    "                'type': 'integer'\n",
    "            },\n",
    "            'DepTime': {\n",
    "                'type': 'integer'\n",
    "            },\n",
    "            'Month': {\n",
    "                'type': 'string'\n",
    "            },\n",
    "            'CRSElapsedTime': {\n",
    "                'type': 'integer'\n",
    "            },\n",
    "            'DayofMonth': {\n",
    "                'type': 'string'\n",
    "            },\n",
    "            'Distance': {\n",
    "                'type': 'integer'\n",
    "            },\n",
    "            'CRSDepTime': {\n",
    "                'type': 'integer',\n",
    "            },\n",
    "            'DayOfWeek': {\n",
    "                'type': 'string'\n",
    "            },\n",
    "            'CancellationCode': {\n",
    "                'type': 'string'\n",
    "            },\n",
    "            'Dest': {\n",
    "                'type': 'string'\n",
    "            },\n",
    "            'DepDelay': {\n",
    "                'type': 'integer'\n",
    "            },\n",
    "            'TaxiIn': {\n",
    "                'type': 'integer'\n",
    "            },\n",
    "            'UniqueCarrier': {\n",
    "                'type': 'string'\n",
    "            },\n",
    "            'ArrDelay': {\n",
    "                'type': 'integer'\n",
    "            },\n",
    "            'Cancelled': {\n",
    "                'type': 'boolean'\n",
    "            },\n",
    "            'Diverted': {\n",
    "                'type': 'boolean'\n",
    "            },\n",
    "            'message': {\n",
    "                'type': 'string'\n",
    "            },\n",
    "            'TaxiOut': {\n",
    "                'type': 'integer'\n",
    "            },\n",
    "            'ActualElapsedTime': {\n",
    "                'type': 'integer'\n",
    "            },\n",
    "            'CarrierDelay': {\n",
    "                'type': 'integer',\n",
    "                'null_value': -1\n",
    "            },\n",
    "            '@timestamp': {\n",
    "                'format': 'strict_date_optional_time||epoch_millis',\n",
    "                'type': 'date'\n",
    "            },\n",
    "            'Year': {\n",
    "                'type': 'string'\n",
    "            },\n",
    "            'WeatherDelay': {\n",
    "                'type': 'integer',\n",
    "                'null_value': -1\n",
    "            },\n",
    "            'CRSArrTime': {\n",
    "                'type': 'integer'\n",
    "            },\n",
    "            'TailNum': {\n",
    "                'type': 'string'\n",
    "            }\n",
    "        }\n",
    "    }\n",
    "\n",
    "}\n",
    "es.put_mapping(index=INDEX_NAME, doc_type=DOC_TYPE,mapping=mapping )"
   ]
  },
  {
   "cell_type": "code",
   "execution_count": 10,
   "metadata": {},
   "outputs": [
    {
     "data": {
      "text/plain": [
       "16922190"
      ]
     },
     "execution_count": 10,
     "metadata": {},
     "output_type": "execute_result"
    }
   ],
   "source": [
    "es.count('*')['count']"
   ]
  },
  {
   "cell_type": "code",
   "execution_count": null,
   "metadata": {
    "collapsed": true
   },
   "outputs": [],
   "source": [
    "# if import fails, we can selectivly remove entries\n",
    "\n",
    "# GET expo2009/_search\n",
    "# {\n",
    "#   \"query\": {\n",
    "#     \"range\": {\n",
    "#         \"@timestamp\" : { \"gte\" : \"2002-01-01T00:00:00\" }\n",
    "#     }\n",
    "#   }\n",
    "# }\n",
    "\n",
    "# # https://www.elastic.co/guide/en/elasticsearch/reference/current/docs-delete-by-query.html\n",
    "\n",
    "# POST expo2009/_delete_by_query\n",
    "# {\n",
    "#   \"query\": { \n",
    "#     \"range\": {\n",
    "#         \"@timestamp\" : { \"gte\" : \"2002-01-01T00:00:00\" }\n",
    "#     }\n",
    "#   }\n",
    "# }"
   ]
  },
  {
   "cell_type": "code",
   "execution_count": null,
   "metadata": {
    "collapsed": true
   },
   "outputs": [],
   "source": [
    "# curl -XPOST \"http://localhost:9200/expo2009/_delete_by_query\" -H 'Content-Type: application/json' -d'\n",
    "# {\n",
    "#   \"query\": { \n",
    "#     \"range\": {\n",
    "#         \"@timestamp\" : { \"gte\" : \"2002-01-01T00:00:00\" }\n",
    "#     }\n",
    "#   }\n",
    "# }'"
   ]
  },
  {
   "cell_type": "markdown",
   "metadata": {},
   "source": [
    "### Link to Kibana having query to exclude cancelled data\n",
    "\n",
    "http://localhost:5601/app/kibana#/discover/54473450-6cc1-11e7-9fcb-d7f604317213?_g=(refreshInterval:(display:Off,pause:!f,value:0),time:(from:'1999-12-31T23:00:00.000Z',mode:absolute,to:'2002-12-31T23:00:00.000Z'))&_a=(columns:!(_source),filters:!(),index:expo2009,interval:M,query:(query_string:(analyze_wildcard:!t,query:'Cancelled:%20false')),sort:!('@timestamp',desc))"
   ]
  },
  {
   "cell_type": "code",
   "execution_count": null,
   "metadata": {
    "collapsed": true
   },
   "outputs": [],
   "source": []
  }
 ],
 "metadata": {
  "kernelspec": {
   "display_name": "Python 3",
   "language": "python",
   "name": "python3"
  },
  "language_info": {
   "codemirror_mode": {
    "name": "ipython",
    "version": 3
   },
   "file_extension": ".py",
   "mimetype": "text/x-python",
   "name": "python",
   "nbconvert_exporter": "python",
   "pygments_lexer": "ipython3",
   "version": "3.6.1"
  }
 },
 "nbformat": 4,
 "nbformat_minor": 2
}
