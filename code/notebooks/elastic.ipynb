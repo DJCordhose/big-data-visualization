{
 "cells": [
  {
   "cell_type": "code",
   "execution_count": 1,
   "metadata": {},
   "outputs": [
    {
     "name": "stdout",
     "output_type": "stream",
     "text": [
      "Populating the interactive namespace from numpy and matplotlib\n"
     ]
    }
   ],
   "source": [
    "%matplotlib inline\n",
    "%pylab inline"
   ]
  },
  {
   "cell_type": "code",
   "execution_count": 2,
   "metadata": {
    "collapsed": true
   },
   "outputs": [],
   "source": [
    "import warnings\n",
    "warnings.filterwarnings('ignore')"
   ]
  },
  {
   "cell_type": "code",
   "execution_count": 3,
   "metadata": {},
   "outputs": [],
   "source": [
    "from pyelasticsearch import ElasticSearch, bulk_chunks\n",
    "import pandas as pd"
   ]
  },
  {
   "cell_type": "code",
   "execution_count": 4,
   "metadata": {
    "collapsed": true
   },
   "outputs": [],
   "source": [
    "ES_HOST = 'http://localhost:9200/'\n",
    "INDEX_NAME = \"expo2009\"\n",
    "DOC_TYPE = \"flight\""
   ]
  },
  {
   "cell_type": "code",
   "execution_count": 5,
   "metadata": {},
   "outputs": [],
   "source": [
    "es = ElasticSearch(ES_HOST)"
   ]
  },
  {
   "cell_type": "code",
   "execution_count": 25,
   "metadata": {},
   "outputs": [
    {
     "name": "stdout",
     "output_type": "stream",
     "text": [
      "Deleting expo2009\n"
     ]
    }
   ],
   "source": [
    "# init index\n",
    "try :\n",
    "    es.delete_index(INDEX_NAME)\n",
    "    print('Deleting %s'%(INDEX_NAME))\n",
    "except :\n",
    "    print('ERROR: Deleting %s failed!'%(INDEX_NAME))\n",
    "    pass"
   ]
  },
  {
   "cell_type": "code",
   "execution_count": 26,
   "metadata": {},
   "outputs": [
    {
     "data": {
      "text/plain": [
       "{'acknowledged': True, 'shards_acknowledged': True}"
      ]
     },
     "execution_count": 26,
     "metadata": {},
     "output_type": "execute_result"
    }
   ],
   "source": [
    "es.create_index(INDEX_NAME)"
   ]
  },
  {
   "cell_type": "code",
   "execution_count": 27,
   "metadata": {},
   "outputs": [
    {
     "data": {
      "text/plain": [
       "{'acknowledged': True}"
      ]
     },
     "execution_count": 27,
     "metadata": {},
     "output_type": "execute_result"
    }
   ],
   "source": [
    "# https://pyelasticsearch.readthedocs.io/en/latest/api/#pyelasticsearch.ElasticSearch.put_mapping\n",
    "# https://www.elastic.co/guide/en/elasticsearch/reference/current/null-value.html\n",
    "mapping = {\n",
    "    'flight': {\n",
    "        'properties': {\n",
    "            'SecurityDelay': {\n",
    "                'type': 'integer',\n",
    "                'null_value': -1\n",
    "            },\n",
    "            'FlightNum': {\n",
    "                'type': 'string'\n",
    "            },\n",
    "            'Origin': {\n",
    "                'type': 'string'\n",
    "            },\n",
    "            'LateAircraftDelay': {\n",
    "                'type': 'integer',\n",
    "                'null_value': -1\n",
    "            },\n",
    "            'NASDelay': {\n",
    "                'type': 'integer',\n",
    "                'null_value': -1\n",
    "            },\n",
    "            'ArrTime': {\n",
    "                'type': 'integer'\n",
    "            },\n",
    "            'AirTime': {\n",
    "                'type': 'integer'\n",
    "            },\n",
    "            'DepTime': {\n",
    "                'type': 'integer'\n",
    "            },\n",
    "            'Month': {\n",
    "                'type': 'string'\n",
    "            },\n",
    "            'CRSElapsedTime': {\n",
    "                'type': 'integer'\n",
    "            },\n",
    "            'DayofMonth': {\n",
    "                'type': 'string'\n",
    "            },\n",
    "            'Distance': {\n",
    "                'type': 'integer'\n",
    "            },\n",
    "            'CRSDepTime': {\n",
    "                'type': 'integer',\n",
    "            },\n",
    "            'DayOfWeek': {\n",
    "                'type': 'string'\n",
    "            },\n",
    "            'CancellationCode': {\n",
    "                'type': 'string'\n",
    "            },\n",
    "            'Dest': {\n",
    "                'type': 'string'\n",
    "            },\n",
    "            'DepDelay': {\n",
    "                'type': 'integer'\n",
    "            },\n",
    "            'TaxiIn': {\n",
    "                'type': 'integer'\n",
    "            },\n",
    "            'UniqueCarrier': {\n",
    "                'type': 'string'\n",
    "            },\n",
    "            'ArrDelay': {\n",
    "                'type': 'integer'\n",
    "            },\n",
    "            'Cancelled': {\n",
    "                'type': 'boolean'\n",
    "            },\n",
    "            'Diverted': {\n",
    "                'type': 'boolean'\n",
    "            },\n",
    "            'message': {\n",
    "                'type': 'string'\n",
    "            },\n",
    "            'TaxiOut': {\n",
    "                'type': 'integer'\n",
    "            },\n",
    "            'ActualElapsedTime': {\n",
    "                'type': 'integer'\n",
    "            },\n",
    "            'CarrierDelay': {\n",
    "                'type': 'integer',\n",
    "                'null_value': -1\n",
    "            },\n",
    "            '@timestamp': {\n",
    "                'format': 'strict_date_optional_time||epoch_millis',\n",
    "                'type': 'date'\n",
    "            },\n",
    "            'Year': {\n",
    "                'type': 'string'\n",
    "            },\n",
    "            'WeatherDelay': {\n",
    "                'type': 'integer',\n",
    "                'null_value': -1\n",
    "            },\n",
    "            'CRSArrTime': {\n",
    "                'type': 'integer'\n",
    "            },\n",
    "            'TailNum': {\n",
    "                'type': 'string'\n",
    "            }\n",
    "        }\n",
    "    }\n",
    "}\n",
    "es.put_mapping(index=INDEX_NAME, doc_type=DOC_TYPE,mapping=mapping )"
   ]
  },
  {
   "cell_type": "code",
   "execution_count": 28,
   "metadata": {},
   "outputs": [
    {
     "data": {
      "text/plain": [
       "2"
      ]
     },
     "execution_count": 28,
     "metadata": {},
     "output_type": "execute_result"
    }
   ],
   "source": [
    "es.count('*')['count']"
   ]
  },
  {
   "cell_type": "code",
   "execution_count": null,
   "metadata": {
    "collapsed": true
   },
   "outputs": [],
   "source": []
  }
 ],
 "metadata": {
  "kernelspec": {
   "display_name": "Python 3",
   "language": "python",
   "name": "python3"
  },
  "language_info": {
   "codemirror_mode": {
    "name": "ipython",
    "version": 3
   },
   "file_extension": ".py",
   "mimetype": "text/x-python",
   "name": "python",
   "nbconvert_exporter": "python",
   "pygments_lexer": "ipython3",
   "version": "3.6.1"
  }
 },
 "nbformat": 4,
 "nbformat_minor": 2
}
